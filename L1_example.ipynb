{
  "nbformat": 4,
  "nbformat_minor": 0,
  "metadata": {
    "colab": {
      "provenance": [],
      "include_colab_link": true
    },
    "kernelspec": {
      "name": "python3",
      "display_name": "Python 3"
    },
    "language_info": {
      "name": "python"
    }
  },
  "cells": [
    {
      "cell_type": "markdown",
      "metadata": {
        "id": "view-in-github",
        "colab_type": "text"
      },
      "source": [
        "<a href=\"https://colab.research.google.com/github/krackalackel02/CS-M148/blob/main/L1_example.ipynb\" target=\"_parent\"><img src=\"https://colab.research.google.com/assets/colab-badge.svg\" alt=\"Open In Colab\"/></a>"
      ]
    },
    {
      "cell_type": "code",
      "source": [
        "from datascience import *\n",
        "import numpy as np\n",
        "import pandas as pd\n",
        "\n",
        "%matplotlib inline\n",
        "import matplotlib.pyplot as plt\n",
        "plt.style.use('seaborn-whitegrid')"
      ],
      "metadata": {
        "colab": {
          "base_uri": "https://localhost:8080/"
        },
        "id": "p7WXEY5KdtaJ",
        "outputId": "945bf2dc-2d81-4805-a54a-8f2f37d1e228"
      },
      "execution_count": null,
      "outputs": [
        {
          "output_type": "stream",
          "name": "stderr",
          "text": [
            "<ipython-input-1-32c06f677933>:7: MatplotlibDeprecationWarning: The seaborn styles shipped by Matplotlib are deprecated since 3.6, as they no longer correspond to the styles shipped by seaborn. However, they will remain available as 'seaborn-v0_8-<style>'. Alternatively, directly use the seaborn API instead.\n",
            "  plt.style.use('seaborn-whitegrid')\n"
          ]
        }
      ]
    },
    {
      "cell_type": "code",
      "execution_count": null,
      "metadata": {
        "colab": {
          "base_uri": "https://localhost:8080/",
          "height": 392
        },
        "id": "TTSSB1-epkWa",
        "outputId": "5d2e4855-aa70-4bc2-9b74-acb4cace50d7"
      },
      "outputs": [
        {
          "output_type": "execute_result",
          "data": {
            "text/plain": [
              "height | weight\n",
              "58     | 115\n",
              "59     | 117\n",
              "60     | 120\n",
              "61     | 123\n",
              "62     | 126\n",
              "63     | 129\n",
              "64     | 132\n",
              "65     | 135\n",
              "66     | 139\n",
              "67     | 142\n",
              "... (5 rows omitted)"
            ],
            "text/html": [
              "<table border=\"1\" class=\"dataframe\">\n",
              "    <thead>\n",
              "        <tr>\n",
              "            <th>height</th> <th>weight</th>\n",
              "        </tr>\n",
              "    </thead>\n",
              "    <tbody>\n",
              "        <tr>\n",
              "            <td>58    </td> <td>115   </td>\n",
              "        </tr>\n",
              "        <tr>\n",
              "            <td>59    </td> <td>117   </td>\n",
              "        </tr>\n",
              "        <tr>\n",
              "            <td>60    </td> <td>120   </td>\n",
              "        </tr>\n",
              "        <tr>\n",
              "            <td>61    </td> <td>123   </td>\n",
              "        </tr>\n",
              "        <tr>\n",
              "            <td>62    </td> <td>126   </td>\n",
              "        </tr>\n",
              "        <tr>\n",
              "            <td>63    </td> <td>129   </td>\n",
              "        </tr>\n",
              "        <tr>\n",
              "            <td>64    </td> <td>132   </td>\n",
              "        </tr>\n",
              "        <tr>\n",
              "            <td>65    </td> <td>135   </td>\n",
              "        </tr>\n",
              "        <tr>\n",
              "            <td>66    </td> <td>139   </td>\n",
              "        </tr>\n",
              "        <tr>\n",
              "            <td>67    </td> <td>142   </td>\n",
              "        </tr>\n",
              "    </tbody>\n",
              "</table>\n",
              "<p>... (5 rows omitted)</p>"
            ]
          },
          "metadata": {},
          "execution_count": 2
        }
      ],
      "source": [
        "people_measurements = Table().with_columns(\n",
        "    'height', make_array(*range(58,73)),\n",
        "    'weight', make_array(115, 117, 120, 123, 126, 129, 132, 135, 139, 142, 146,150, 154,159,164)\n",
        ")\n",
        "people_measurements"
      ]
    }
  ]
}